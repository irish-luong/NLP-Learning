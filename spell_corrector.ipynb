{
 "cells": [
  {
   "cell_type": "code",
   "execution_count": 4,
   "metadata": {
    "collapsed": true
   },
   "outputs": [],
   "source": [
    "import re\n",
    "from collections import Counter"
   ]
  },
  {
   "cell_type": "code",
   "execution_count": 5,
   "metadata": {
    "collapsed": true
   },
   "outputs": [],
   "source": [
    "# function to tokenise words\n",
    "def words(document):\n",
    "    \"Convert text to lower case and tokenise the document\"\n",
    "    return re.findall(r'\\w+', document.lower())"
   ]
  },
  {
   "cell_type": "code",
   "execution_count": 6,
   "metadata": {
    "collapsed": true
   },
   "outputs": [],
   "source": [
    "# create a frequency table of all the words of the document\n",
    "all_words = Counter(words(open('big.txt').read()))"
   ]
  },
  {
   "cell_type": "code",
   "execution_count": 7,
   "metadata": {},
   "outputs": [
    {
     "data": {
      "text/plain": [
       "135"
      ]
     },
     "execution_count": 7,
     "metadata": {},
     "output_type": "execute_result"
    }
   ],
   "source": [
    "# check frequency of a random word, say, 'chair'\n",
    "all_words['chair']"
   ]
  },
  {
   "cell_type": "code",
   "execution_count": 8,
   "metadata": {},
   "outputs": [
    {
     "data": {
      "text/plain": [
       "[('the', 79809),\n",
       " ('of', 40024),\n",
       " ('and', 38312),\n",
       " ('to', 28765),\n",
       " ('in', 22023),\n",
       " ('a', 21124),\n",
       " ('that', 12512),\n",
       " ('he', 12401),\n",
       " ('was', 11410),\n",
       " ('it', 10681)]"
      ]
     },
     "execution_count": 8,
     "metadata": {},
     "output_type": "execute_result"
    }
   ],
   "source": [
    "# look at top 10 frequent words\n",
    "all_words.most_common(10)"
   ]
  },
  {
   "cell_type": "code",
   "execution_count": 9,
   "metadata": {
    "collapsed": true
   },
   "outputs": [],
   "source": [
    "def edits_one(word):\n",
    "    \"Create all edits that are one edit away from `word`.\"\n",
    "    alphabets    = 'abcdefghijklmnopqrstuvwxyz'\n",
    "    splits     = [(word[:i], word[i:])                   for i in range(len(word) + 1)]\n",
    "    deletes    = [left + right[1:]                       for left, right in splits if right]\n",
    "    inserts    = [left + c + right                       for left, right in splits for c in alphabets]\n",
    "    replaces   = [left + c + right[1:]                   for left, right in splits if right for c in alphabets]\n",
    "    transposes = [left + right[1] + right[0] + right[2:] for left, right in splits if len(right)>1]\n",
    "    return set(deletes + inserts + replaces + transposes)"
   ]
  },
  {
   "cell_type": "code",
   "execution_count": 10,
   "metadata": {
    "collapsed": true
   },
   "outputs": [],
   "source": [
    "def edits_two(word):\n",
    "    \"Create all edits that are two edits away from `word`.\"\n",
    "    return (e2 for e1 in edits_one(word) for e2 in edits_one(e1))"
   ]
  },
  {
   "cell_type": "code",
   "execution_count": 11,
   "metadata": {
    "collapsed": true
   },
   "outputs": [],
   "source": [
    "def known(words):\n",
    "    \"The subset of `words` that appear in the `all_words`.\"\n",
    "    return set(word for word in words if word in all_words)"
   ]
  },
  {
   "cell_type": "code",
   "execution_count": 12,
   "metadata": {
    "collapsed": true
   },
   "outputs": [],
   "source": [
    "def possible_corrections(word):\n",
    "    \"Generate possible spelling corrections for word.\"\n",
    "    return (known([word]) or known(edits_one(word)) or known(edits_two(word)) or [word])"
   ]
  },
  {
   "cell_type": "code",
   "execution_count": 13,
   "metadata": {
    "collapsed": true
   },
   "outputs": [],
   "source": [
    "def prob(word, N=sum(all_words.values())): \n",
    "    \"Probability of `word`: Number of appearances of 'word' / total number of tokens\"\n",
    "    return all_words[word] / N"
   ]
  },
  {
   "cell_type": "code",
   "execution_count": 14,
   "metadata": {},
   "outputs": [
    {
     "name": "stdout",
     "output_type": "stream",
     "text": [
      "336\n",
      "{'monniey', 'mooney', 'mownney', 'monneym', 'movney', 'mvonney', 'mlnney', 'monnwy', 'mowney', 'monneq', 'monnxy', 'momney', 'monnhy', 'monnky', 'mnonney', 'monlney', 'mqnney', 'monneyd', 'moniey', 'monndey', 'monnery', 'monneyw', 'moiney', 'monneyp', 'monkey', 'nmonney', 'monnney', 'moeney', 'mnney', 'mxnney', 'onney', 'moynney', 'monneyr', 'monndy', 'dmonney', 'monneyl', 'monnry', 'uonney', 'mknney', 'mojney', 'monneiy', 'molnney', 'mohnney', 'gonney', 'monneqy', 'qonney', 'meonney', 'monley', 'mionney', 'muonney', 'tmonney', 'monsney', 'monneyu', 'monneoy', 'monfey', 'xmonney', 'msonney', 'omonney', 'monneyf', 'monnesy', 'montney', 'mdonney', 'mouney', 'monneny', 'cmonney', 'mmnney', 'monjey', 'monbney', 'monniy', 'monneyn', 'umonney', 'mongney', 'fmonney', 'monneu', 'mronney', 'monnepy', 'monnoey', 'monnsy', 'monnmey', 'mzonney', 'molney', 'monxey', 'monncey', 'monneyh', 'mhnney', 'moneey', 'mqonney', 'mjonney', 'monnrey', 'moniney', 'monnefy', 'monnfy', 'monnew', 'monnyy', 'moanney', 'honney', 'monnqy', 'monneg', 'monnet', 'monnehy', 'mrnney', 'mponney', 'monnuey', 'monnsey', 'mfnney', 'monnel', 'mlonney', 'monuney', 'mpnney', 'monnny', 'wonney', 'monhey', 'monnyey', 'monnby', 'monnley', 'monneay', 'sonney', 'monjney', 'bonney', 'montey', 'monnea', 'monneb', 'moqnney', 'mogney', 'monyey', 'monneyy', 'monpey', 'monnee', 'monngey', 'ymonney', 'mkonney', 'monneyv', 'zmonney', 'monnegy', 'monnvey', 'mocney', 'mjnney', 'monnes', 'yonney', 'moncney', 'monnwey', 'modney', 'monner', 'monqney', 'ionney', 'bmonney', 'monnemy', 'monnxey', 'monnkey', 'smonney', 'mognney', 'monnoy', 'monneyc', 'omnney', 'monvey', 'monnedy', 'monny', 'hmonney', 'jonney', 'xonney', 'monnjy', 'amonney', 'mopnney', 'minney', 'vmonney', 'monnef', 'monneyi', 'mornney', 'monnely', 'monrey', 'monxney', 'monneyk', 'mondney', 'emonney', 'monnbey', 'gmonney', 'moneney', 'monnuy', 'monneh', 'monnezy', 'monnec', 'fonney', 'monoey', 'mvnney', 'eonney', 'monyney', 'monneyo', 'monmney', 'mgnney', 'conney', 'monnhey', 'jmonney', 'moncey', 'monneys', 'mobney', 'mnnney', 'monnewy', 'mongey', 'mohney', 'monbey', 'monneky', 'monaney', 'manney', 'monpney', 'mynney', 'mofney', 'mtnney', 'monvney', 'monkney', 'mznney', 'monnye', 'monnem', 'moxnney', 'imonney', 'monaey', 'mgonney', 'pmonney', 'monneyb', 'monngy', 'mobnney', 'monnvy', 'mondey', 'monneyt', 'monneyq', 'oonney', 'mwnney', 'msnney', 'monnay', 'maonney', 'motnney', 'monnzy', 'monneyz', 'monnfey', 'monnty', 'monneby', 'monnjey', 'moxney', 'ponney', 'monneyx', 'monned', 'monneo', 'mofnney', 'morney', 'wmonney', 'zonney', 'monnexy', 'lonney', 'movnney', 'monneey', 'monzey', 'moinney', 'kmonney', 'mopney', 'monneya', 'moonney', 'monzney', 'momnney', 'monnaey', 'monrney', 'konney', 'menney', 'mmonney', 'mtonney', 'motney', 'moznney', 'nonney', 'monhney', 'mwonney', 'mokney', 'myonney', 'monnpey', 'moenney', 'monqey', 'ronney', 'monnep', 'monneyg', 'mocnney', 'monnex', 'qmonney', 'monnevy', 'monnly', 'mxonney', 'moknney', 'aonney', 'monmey', 'money', 'monnmy', 'moqney', 'mbnney', 'mounney', 'monnei', 'modnney', 'monwey', 'munney', 'rmonney', 'monnev', 'mosney', 'monnejy', 'monneyj', 'mconney', 'monsey', 'mosnney', 'mfonney', 'monnen', 'mononey', 'monne', 'monnecy', 'monnpy', 'monnek', 'mozney', 'monnej', 'lmonney', 'monnez', 'monntey', 'monneuy', 'mojnney', 'mcnney', 'moaney', 'moneny', 'tonney', 'mnoney', 'mdnney', 'mhonney', 'monnqey', 'monnzey', 'moyney', 'monuey', 'vonney', 'monwney', 'monfney', 'monnety', 'mbonney', 'donney', 'monney', 'monncy', 'monneye'}\n"
     ]
    }
   ],
   "source": [
    "print(len(set(edits_one(\"monney\"))))\n",
    "print(edits_one(\"monney\"))"
   ]
  },
  {
   "cell_type": "code",
   "execution_count": 16,
   "metadata": {},
   "outputs": [
    {
     "name": "stdout",
     "output_type": "stream",
     "text": [
      "{'monkey', 'money'}\n"
     ]
    }
   ],
   "source": [
    "print(known(edits_one(\"monney\")))"
   ]
  },
  {
   "cell_type": "code",
   "execution_count": 17,
   "metadata": {},
   "outputs": [
    {
     "name": "stdout",
     "output_type": "stream",
     "text": [
      "51013\n",
      "{'monkey', 'money'}\n"
     ]
    }
   ],
   "source": [
    "# Let's look at words that are two edits away\n",
    "print(len(set(edits_two(\"monney\"))))\n",
    "print(known(edits_one(\"monney\")))"
   ]
  },
  {
   "cell_type": "code",
   "execution_count": 18,
   "metadata": {},
   "outputs": [
    {
     "name": "stdout",
     "output_type": "stream",
     "text": [
      "{'monkey', 'money'}\n"
     ]
    }
   ],
   "source": [
    "# Let's look at possible corrections of a word\n",
    "print(possible_corrections(\"monney\"))"
   ]
  },
  {
   "cell_type": "code",
   "execution_count": 30,
   "metadata": {},
   "outputs": [
    {
     "name": "stdout",
     "output_type": "stream",
     "text": [
      "0.0002922233626303688\n",
      "5.378344097491451e-06\n",
      "0.0\n"
     ]
    }
   ],
   "source": [
    "# Let's look at probability of a word\n",
    "print(prob(\"money\"))\n",
    "print(prob(\"monkey\"))\n",
    "print(prob(\"nobel\"))"
   ]
  },
  {
   "cell_type": "code",
   "execution_count": 20,
   "metadata": {},
   "outputs": [],
   "source": [
    "def spell_check(word):\n",
    "    \"Print the most probable spelling correction for `word` out of all the `possible_corrections`\"\n",
    "    correct_word = max(possible_corrections(word), key=prob)\n",
    "    if correct_word != word:\n",
    "        return \"Did you mean \" + correct_word + \"?\"\n",
    "    else:\n",
    "        return \"Correct spelling.\""
   ]
  },
  {
   "cell_type": "code",
   "execution_count": 21,
   "metadata": {},
   "outputs": [
    {
     "name": "stdout",
     "output_type": "stream",
     "text": [
      "Did you mean money?\n"
     ]
    }
   ],
   "source": [
    "# test spell check\n",
    "print(spell_check(\"monney\"))"
   ]
  },
  {
   "cell_type": "code",
   "execution_count": 23,
   "metadata": {},
   "outputs": [
    {
     "name": "stdout",
     "output_type": "stream",
     "text": [
      "442\n"
     ]
    }
   ],
   "source": [
    "print(len(edits_one(\"emfasize\")))"
   ]
  },
  {
   "cell_type": "code",
   "execution_count": 26,
   "metadata": {},
   "outputs": [
    {
     "name": "stdout",
     "output_type": "stream",
     "text": [
      "90902\n"
     ]
    }
   ],
   "source": [
    "print(len(set(edits_two(\"emfasize\"))))"
   ]
  },
  {
   "cell_type": "code",
   "execution_count": 28,
   "metadata": {},
   "outputs": [
    {
     "name": "stdout",
     "output_type": "stream",
     "text": [
      "1\n"
     ]
    }
   ],
   "source": [
    "print(len(list(possible_corrections(\"nobel\"))))"
   ]
  },
  {
   "cell_type": "code",
   "execution_count": 1,
   "metadata": {},
   "outputs": [
    {
     "name": "stdout",
     "output_type": "stream",
     "text": [
      "laern\n"
     ]
    }
   ],
   "source": [
    "from spell_corrector import rectify, prob\n",
    "correct = rectify(\"laern\")\n",
    "print(correct)"
   ]
  },
  {
   "cell_type": "code",
   "execution_count": 6,
   "metadata": {},
   "outputs": [
    {
     "name": "stdout",
     "output_type": "stream",
     "text": [
      "0.0\n"
     ]
    }
   ],
   "source": [
    "print(prob(\"nobel prize\"))"
   ]
  },
  {
   "cell_type": "code",
   "execution_count": null,
   "metadata": {},
   "outputs": [],
   "source": []
  }
 ],
 "metadata": {
  "kernelspec": {
   "display_name": "Python 3",
   "language": "python",
   "name": "python3"
  },
  "language_info": {
   "codemirror_mode": {
    "name": "ipython",
    "version": 3
   },
   "file_extension": ".py",
   "mimetype": "text/x-python",
   "name": "python",
   "nbconvert_exporter": "python",
   "pygments_lexer": "ipython3",
   "version": "3.9.17"
  }
 },
 "nbformat": 4,
 "nbformat_minor": 2
}
